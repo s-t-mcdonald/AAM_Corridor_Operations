{
 "cells": [
  {
   "cell_type": "code",
   "execution_count": 1,
   "metadata": {},
   "outputs": [],
   "source": [
    "import numpy as np\n",
    "import networkx as nx\n",
    "import json\n",
    "import spektral\n",
    "from spektral.data import Graph, Dataset\n",
    "import matplotlib.pyplot as plt\n",
    "import tensorflow as tf\n",
    "import random\n",
    "import pyproj\n",
    "\n",
    "import utm\n",
    "import numpy as np\n",
    "import random\n",
    "import math\n",
    "import time\n",
    "\n",
    "import pandas as pd\n",
    "import pydeck as pdk\n",
    "\n",
    "import pydeck as pdk\n",
    "import pandas as pd\n",
    "import ipywidgets\n",
    "# use palettable for colormap colors\n",
    "from palettable.cartocolors.sequential import BrwnYl_3\n",
    "import json\n",
    "\n",
    "Colors_RGB = [[31, 119, 180],\n",
    "          [255, 127, 14],\n",
    "          [44, 160, 44],\n",
    "          [214, 39, 40],\n",
    "          [148, 103, 189],\n",
    "          [140, 86, 75],\n",
    "          [227, 119, 194],\n",
    "          [127, 127, 127],\n",
    "          [188, 189, 34],\n",
    "          [23, 190, 207]]\n",
    "          \n",
    "    \n",
    "JFK_LAT_LON = 40.645944, -73.784839\n",
    "Num_Vertiports = 28\n"
   ]
  },
  {
   "cell_type": "code",
   "execution_count": 2,
   "metadata": {},
   "outputs": [],
   "source": [
    "g = nx.read_gml(\"vfrLatest.gml\")"
   ]
  },
  {
   "cell_type": "code",
   "execution_count": 3,
   "metadata": {
    "scrolled": true
   },
   "outputs": [],
   "source": [
    "LongLat = nx.get_node_attributes(g, \"pos\")"
   ]
  },
  {
   "cell_type": "code",
   "execution_count": 4,
   "metadata": {},
   "outputs": [],
   "source": [
    "g = nx.Graph()"
   ]
  },
  {
   "cell_type": "code",
   "execution_count": 5,
   "metadata": {},
   "outputs": [],
   "source": [
    "lons = []\n",
    "lats = []\n",
    "Xs = []\n",
    "Ys = []\n",
    "New_Long_Lat = {}\n",
    "for i in range(Num_Vertiports):\n",
    "    lon = LongLat[str(i)][0]\n",
    "    lat = LongLat[str(i)][1]\n",
    "    \n",
    "    x, y, z, zl = utm.from_latlon(lat, lon)\n",
    "    \n",
    "    lons.append(lon)\n",
    "    lats.append(lat)\n",
    "\n",
    "    Xs.append(x)\n",
    "    Ys.append(y)\n",
    "    g.add_node(i)\n",
    "    \n",
    "    New_Long_Lat[i] = [lon, lat]"
   ]
  },
  {
   "cell_type": "code",
   "execution_count": 6,
   "metadata": {},
   "outputs": [],
   "source": [
    "x_c, y_c, z, zl = utm.from_latlon(lats[18], lons[18])"
   ]
  },
  {
   "cell_type": "code",
   "execution_count": 7,
   "metadata": {},
   "outputs": [],
   "source": [
    "sep_dist = 804.672\n",
    "size = 160934/4"
   ]
  },
  {
   "cell_type": "code",
   "execution_count": 8,
   "metadata": {},
   "outputs": [],
   "source": [
    "y_s = y_c + size/2\n",
    "x_s = x_c - size/2"
   ]
  },
  {
   "cell_type": "code",
   "execution_count": 9,
   "metadata": {},
   "outputs": [],
   "source": [
    "Width = int(round(size/sep_dist))"
   ]
  },
  {
   "cell_type": "code",
   "execution_count": 10,
   "metadata": {},
   "outputs": [],
   "source": [
    "grid_graph = nx.grid_graph((Width, Width))"
   ]
  },
  {
   "cell_type": "code",
   "execution_count": 11,
   "metadata": {},
   "outputs": [],
   "source": [
    "node_num = Num_Vertiports\n",
    "ind = {}\n",
    "for n in grid_graph.nodes:\n",
    "    x = x_s+sep_dist*n[0]\n",
    "    y = y_s-sep_dist*n[1]\n",
    "    \n",
    "    latlon = utm.to_latlon(x,y, z, zl)\n",
    "    \n",
    "    lons.append(latlon[1])\n",
    "    lats.append(latlon[0])\n",
    "    \n",
    "    Xs.append(x)\n",
    "    Ys.append(y)\n",
    "    \n",
    "    g.add_node(node_num)\n",
    "    \n",
    "    ind[n] = node_num\n",
    "    \n",
    "    New_Long_Lat[node_num] = [latlon[1], latlon[0]]\n",
    "    \n",
    "    node_num += 1"
   ]
  },
  {
   "cell_type": "code",
   "execution_count": 12,
   "metadata": {},
   "outputs": [],
   "source": [
    "for n in grid_graph.nodes:\n",
    "    for nei in grid_graph.neighbors(n):\n",
    "        g.add_edge(ind[n], ind[nei])"
   ]
  },
  {
   "cell_type": "code",
   "execution_count": 13,
   "metadata": {},
   "outputs": [],
   "source": [
    "for i in grid_graph.nodes:\n",
    "    for j in range(Num_Vertiports):\n",
    "        dist = ((Xs[ind[i]]-Xs[j])**2 + (Ys[ind[i]]-Ys[j])**2)**0.5\n",
    "        \n",
    "        if dist < 1.2*sep_dist:\n",
    "            g.add_edge(ind[i],j)"
   ]
  },
  {
   "cell_type": "code",
   "execution_count": 14,
   "metadata": {},
   "outputs": [],
   "source": [
    "SRC_list = []\n",
    "DST_list = []\n",
    "\n",
    "for e in g.edges:\n",
    "    SRC_list.append([lons[int(e[0])], lats[int(e[0])]])\n",
    "    DST_list.append([lons[int(e[1])], lats[int(e[1])]])\n",
    "    \n",
    "dictv = {'start': SRC_list, 'end': DST_list} \n",
    "\n",
    "edge_df = pd.DataFrame(dictv)\n",
    "    "
   ]
  },
  {
   "cell_type": "code",
   "execution_count": 15,
   "metadata": {},
   "outputs": [],
   "source": [
    "full_df = {}\n",
    "\n",
    "\n",
    "Node_Lon_Lat = []\n",
    "Node_Color = []\n",
    "Size = []\n",
    "Vertiport = []\n",
    "Tooltip = []\n",
    "\n",
    "\n",
    "for i in range(len(lons)):\n",
    "\n",
    "    if (i < Num_Vertiports):\n",
    "        Node_Lon_Lat.append([lons[i], lats[i]])\n",
    "        Node_Color.append([0, 255, 0, 255])\n",
    "        Size.append(1000)\n",
    "        Tooltip.append(f\"<b>Type:</b> Vertiport: {i}\")\n",
    "\n",
    "    if (i >= Num_Vertiports):\n",
    "\n",
    "        Node_Lon_Lat.append([lons[i], lats[i]])\n",
    "        Node_Color.append([0, 255, 0, 50])\n",
    "        Size.append(1.5)\n",
    "        Tooltip.append(f\"<b>Type:</b> Node: {i}\")\n",
    "\n",
    "\n",
    "dictv = {'coordinates': Node_Lon_Lat, 'color': Node_Color, 'size': Size, 'tooltip': Tooltip} \n",
    "\n",
    "df = pd.DataFrame(dictv)\n"
   ]
  },
  {
   "cell_type": "code",
   "execution_count": 16,
   "metadata": {
    "scrolled": false
   },
   "outputs": [
    {
     "data": {
      "application/vnd.jupyter.widget-view+json": {
       "model_id": "deb8b71004b74bada01675544d03fdee",
       "version_major": 2,
       "version_minor": 0
      },
      "text/plain": [
       "DeckGLWidget(carto_key=None, custom_libraries=[], google_maps_key=None, json_input='{\"effects\": [{\"@@type\": \"L…"
      ]
     },
     "metadata": {},
     "output_type": "display_data"
    }
   ],
   "source": [
    "\n",
    "sunlight = {\n",
    "    \"@@type\": \"_SunLight\",\n",
    "    \"timestamp\": 1564696800000,  # Date.UTC(2019, 7, 1, 22),\n",
    "    \"color\": [255, 255, 255],\n",
    "    \"intensity\": 1.0,\n",
    "    \"_shadow\": True,\n",
    "}\n",
    "\n",
    "ambient_light = {\"@@type\": \"AmbientLight\", \"color\": [255, 255, 255], \"intensity\": 1.0}\n",
    "\n",
    "lighting_effect = {\n",
    "    \"@@type\": \"LightingEffect\",\n",
    "    \"shadowColor\": [0, 0, 0, 0.5],\n",
    "    \"ambientLight\": ambient_light,\n",
    "    \"directionalLights\": [sunlight],\n",
    "}\n",
    "\n",
    "view_state = pdk.ViewState(\n",
    "    **{\"latitude\": JFK_LAT_LON[0], \"longitude\": JFK_LAT_LON[1], \"zoom\": 10, \"maxZoom\": 14, \"pitch\": 90, \"bearing\": 0}\n",
    ")\n",
    "\n",
    "\n",
    "\n",
    "\n",
    "layer = pdk.Layer(\n",
    "    \"ScatterplotLayer\",\n",
    "    df,\n",
    "    pickable=True,\n",
    "    stroked=True,\n",
    "    filled=True,\n",
    "    radius_scale=0.1,\n",
    "    radius_min_pixels=1,\n",
    "    radius_max_pixels=100,\n",
    "    line_width_min_pixels=1,\n",
    "    get_position=\"coordinates\",\n",
    "    get_radius=\"size\",\n",
    "    get_fill_color=\"color\",\n",
    "    get_line_color=[0, 0, 0],\n",
    ")\n",
    "\n",
    "line_layer = pdk.Layer(\n",
    "    \"LineLayer\",\n",
    "    edge_df,\n",
    "    get_source_position=\"start\",\n",
    "    get_target_position=\"end\",\n",
    "    get_color=[105,105,105],\n",
    "    get_width=0.5,\n",
    "    highlight_color=[255, 255, 0],\n",
    "    picking_radius=10,\n",
    "    auto_highlight=True,\n",
    ")\n",
    "\n",
    "tooltip = {\"html\": \"{tooltip}\"}\n",
    "\n",
    "keys = {\"mapbox\": \"pk.eyJ1IjoibWNkb25zdCIsImEiOiJjbDRyNGphOWwweHA1M2lxemI1ZXhmM3Y1In0.Km2Tt6dKpTqwfNmTMEKrQA\"}\n",
    "\n",
    "\n",
    "layers = [line_layer, layer]\n",
    "\n",
    "r = pdk.Deck(\n",
    "    layers,\n",
    "    initial_view_state=view_state,\n",
    "    effects=[lighting_effect],\n",
    "    map_style=\"dark_no_labels\",\n",
    "    api_keys=keys,\n",
    "    tooltip=tooltip,\n",
    ")\n",
    "\n",
    "\n",
    "\n",
    "\n",
    "# # display and save map (to_html(), show())\n",
    "r.show()"
   ]
  },
  {
   "cell_type": "code",
   "execution_count": 17,
   "metadata": {},
   "outputs": [],
   "source": [
    "Adj = np.zeros((len(lons),len(lons)))"
   ]
  },
  {
   "cell_type": "code",
   "execution_count": 18,
   "metadata": {},
   "outputs": [],
   "source": [
    "for e in g.edges:\n",
    "\n",
    "    dist = ((Xs[e[0]]-Xs[e[1]])**2 + (Ys[e[0]]-Ys[e[1]])**2)**0.5\n",
    "    Adj[e[0],e[1]] = dist\n",
    "    Adj[e[1],e[0]] = dist"
   ]
  },
  {
   "cell_type": "code",
   "execution_count": 19,
   "metadata": {},
   "outputs": [],
   "source": [
    "np.savetxt(\"Adj.csv\", Adj, delimiter=\",\")\n",
    "with open('LongLat.json', 'w') as f:\n",
    "    json.dump(New_Long_Lat, f)\n",
    "nx.set_node_attributes(g, New_Long_Lat, name=\"pos\")"
   ]
  },
  {
   "cell_type": "code",
   "execution_count": 20,
   "metadata": {},
   "outputs": [],
   "source": [
    "nx.write_gml(g, \"Grid.gml\")"
   ]
  },
  {
   "cell_type": "code",
   "execution_count": 21,
   "metadata": {},
   "outputs": [
    {
     "data": {
      "text/plain": [
       "EdgeView([(0, 106), (0, 107), (0, 118), (0, 119), (1, 79), (1, 80), (1, 91), (1, 92), (2, 83), (2, 84), (2, 95), (2, 96), (3, 82), (3, 93), (3, 94), (3, 95), (3, 106), (4, 90), (4, 102), (4, 103), (4, 114), (4, 115), (5, 84), (5, 85), (5, 96), (5, 97), (5, 108), (6, 72), (6, 73), (6, 84), (6, 85), (7, 119), (7, 120), (7, 131), (7, 132), (8, 80), (8, 81), (8, 92), (8, 93), (9, 118), (9, 129), (9, 130), (9, 131), (9, 142), (10, 87), (10, 99), (11, 90), (11, 91), (11, 102), (11, 103), (12, 93), (12, 94), (12, 105), (12, 106), (13, 80), (13, 92), (13, 93), (13, 104), (14, 103), (14, 114), (14, 115), (14, 116), (14, 127), (15, 131), (15, 132), (15, 143), (15, 144), (16, 80), (16, 81), (16, 92), (16, 93), (17, 91), (17, 92), (17, 103), (17, 104), (18, 106), (18, 107), (18, 118), (18, 119), (19, 79), (19, 90), (19, 91), (19, 92), (19, 103), (20, 71), (20, 72), (20, 73), (20, 83), (20, 84), (21, 82), (21, 83), (21, 94), (21, 95), (22, 69), (22, 70), (22, 71), (22, 82), (22, 83), (23, 42), (23, 43), (23, 54), (23, 55), (24, 59), (24, 60), (24, 71), (24, 72), (25, 79), (25, 80), (25, 91), (25, 92), (26, 45), (26, 56), (26, 57), (26, 58), (26, 69), (27, 145), (27, 146), (27, 157), (27, 158), (28, 40), (28, 29), (29, 41), (29, 30), (30, 42), (30, 31), (31, 43), (31, 32), (32, 44), (32, 33), (33, 45), (33, 34), (34, 46), (34, 35), (35, 47), (35, 36), (36, 48), (36, 37), (37, 49), (37, 38), (38, 50), (38, 39), (39, 51), (40, 52), (40, 41), (41, 53), (41, 42), (42, 54), (42, 43), (43, 55), (43, 44), (44, 56), (44, 45), (45, 57), (45, 46), (46, 58), (46, 47), (47, 59), (47, 48), (48, 60), (48, 49), (49, 61), (49, 50), (50, 62), (50, 51), (51, 63), (52, 64), (52, 53), (53, 65), (53, 54), (54, 66), (54, 55), (55, 67), (55, 56), (56, 68), (56, 57), (57, 69), (57, 58), (58, 70), (58, 59), (59, 71), (59, 60), (60, 72), (60, 61), (61, 73), (61, 62), (62, 74), (62, 63), (63, 75), (64, 76), (64, 65), (65, 77), (65, 66), (66, 78), (66, 67), (67, 79), (67, 68), (68, 80), (68, 69), (69, 81), (69, 70), (70, 82), (70, 71), (71, 83), (71, 72), (72, 84), (72, 73), (73, 85), (73, 74), (74, 86), (74, 75), (75, 87), (76, 88), (76, 77), (77, 89), (77, 78), (78, 90), (78, 79), (79, 91), (79, 80), (80, 92), (80, 81), (81, 93), (81, 82), (82, 94), (82, 83), (83, 95), (83, 84), (84, 96), (84, 85), (85, 97), (85, 86), (86, 98), (86, 87), (87, 99), (88, 100), (88, 89), (89, 101), (89, 90), (90, 102), (90, 91), (91, 103), (91, 92), (92, 104), (92, 93), (93, 105), (93, 94), (94, 106), (94, 95), (95, 107), (95, 96), (96, 108), (96, 97), (97, 109), (97, 98), (98, 110), (98, 99), (99, 111), (100, 112), (100, 101), (101, 113), (101, 102), (102, 114), (102, 103), (103, 115), (103, 104), (104, 116), (104, 105), (105, 117), (105, 106), (106, 118), (106, 107), (107, 119), (107, 108), (108, 120), (108, 109), (109, 121), (109, 110), (110, 122), (110, 111), (111, 123), (112, 124), (112, 113), (113, 125), (113, 114), (114, 126), (114, 115), (115, 127), (115, 116), (116, 128), (116, 117), (117, 129), (117, 118), (118, 130), (118, 119), (119, 131), (119, 120), (120, 132), (120, 121), (121, 133), (121, 122), (122, 134), (122, 123), (123, 135), (124, 136), (124, 125), (125, 137), (125, 126), (126, 138), (126, 127), (127, 139), (127, 128), (128, 140), (128, 129), (129, 141), (129, 130), (130, 142), (130, 131), (131, 143), (131, 132), (132, 144), (132, 133), (133, 145), (133, 134), (134, 146), (134, 135), (135, 147), (136, 148), (136, 137), (137, 149), (137, 138), (138, 150), (138, 139), (139, 151), (139, 140), (140, 152), (140, 141), (141, 153), (141, 142), (142, 154), (142, 143), (143, 155), (143, 144), (144, 156), (144, 145), (145, 157), (145, 146), (146, 158), (146, 147), (147, 159), (148, 160), (148, 149), (149, 161), (149, 150), (150, 162), (150, 151), (151, 163), (151, 152), (152, 164), (152, 153), (153, 165), (153, 154), (154, 166), (154, 155), (155, 167), (155, 156), (156, 168), (156, 157), (157, 169), (157, 158), (158, 170), (158, 159), (159, 171), (160, 161), (161, 162), (162, 163), (163, 164), (164, 165), (165, 166), (166, 167), (167, 168), (168, 169), (169, 170), (170, 171)])"
      ]
     },
     "execution_count": 21,
     "metadata": {},
     "output_type": "execute_result"
    }
   ],
   "source": [
    "g.edges"
   ]
  }
 ],
 "metadata": {
  "kernelspec": {
   "display_name": "Python 3",
   "language": "python",
   "name": "python3"
  },
  "language_info": {
   "codemirror_mode": {
    "name": "ipython",
    "version": 3
   },
   "file_extension": ".py",
   "mimetype": "text/x-python",
   "name": "python",
   "nbconvert_exporter": "python",
   "pygments_lexer": "ipython3",
   "version": "3.8.5"
  }
 },
 "nbformat": 4,
 "nbformat_minor": 4
}
