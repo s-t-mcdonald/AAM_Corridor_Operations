{
 "cells": [
  {
   "cell_type": "code",
   "execution_count": 1,
   "metadata": {},
   "outputs": [],
   "source": [
    "import numpy as np\n",
    "import networkx as nx\n",
    "import json\n",
    "import spektral\n",
    "from spektral.data import Graph, Dataset\n",
    "import matplotlib.pyplot as plt\n",
    "import tensorflow as tf\n",
    "import random\n",
    "import pyproj\n",
    "\n",
    "import utm\n",
    "import numpy as np\n",
    "import random\n",
    "import math\n",
    "import time\n",
    "\n",
    "import pandas as pd\n",
    "import pydeck as pdk\n",
    "\n",
    "import pydeck as pdk\n",
    "import pandas as pd\n",
    "import ipywidgets\n",
    "# use palettable for colormap colors\n",
    "from palettable.cartocolors.sequential import BrwnYl_3\n",
    "import json\n",
    "\n",
    "Colors_RGB = [[31, 119, 180],\n",
    "          [255, 127, 14],\n",
    "          [44, 160, 44],\n",
    "          [214, 39, 40],\n",
    "          [148, 103, 189],\n",
    "          [140, 86, 75],\n",
    "          [227, 119, 194],\n",
    "          [127, 127, 127],\n",
    "          [188, 189, 34],\n",
    "          [23, 190, 207]]\n",
    "          \n",
    "    \n",
    "JFK_LAT_LON = 40.645944, -73.784839\n",
    "Num_Vertiports = 28\n"
   ]
  },
  {
   "cell_type": "code",
   "execution_count": 2,
   "metadata": {},
   "outputs": [],
   "source": [
    "g = nx.read_gml(\"vfrLatest.gml\")"
   ]
  },
  {
   "cell_type": "code",
   "execution_count": 3,
   "metadata": {
    "scrolled": true
   },
   "outputs": [],
   "source": [
    "LongLat = nx.get_node_attributes(g, \"pos\")"
   ]
  },
  {
   "cell_type": "code",
   "execution_count": 4,
   "metadata": {},
   "outputs": [],
   "source": [
    "g = nx.Graph()"
   ]
  },
  {
   "cell_type": "code",
   "execution_count": 5,
   "metadata": {},
   "outputs": [],
   "source": [
    "lons = []\n",
    "lats = []\n",
    "Xs = []\n",
    "Ys = []\n",
    "New_Long_Lat = {}\n",
    "for i in range(Num_Vertiports):\n",
    "    lon = LongLat[str(i)][0]\n",
    "    lat = LongLat[str(i)][1]\n",
    "    \n",
    "    x, y, z, zl = utm.from_latlon(lat, lon)\n",
    "    \n",
    "    lons.append(lon)\n",
    "    lats.append(lat)\n",
    "\n",
    "    Xs.append(x)\n",
    "    Ys.append(y)\n",
    "    g.add_node(i)\n",
    "    \n",
    "    New_Long_Lat[i] = [lon, lat]"
   ]
  },
  {
   "cell_type": "code",
   "execution_count": 6,
   "metadata": {},
   "outputs": [],
   "source": [
    "x_c, y_c, z, zl = utm.from_latlon(lats[18], lons[18])"
   ]
  },
  {
   "cell_type": "code",
   "execution_count": 7,
   "metadata": {},
   "outputs": [],
   "source": [
    "sep_dist = 804.672*4\n",
    "size = 160934/4"
   ]
  },
  {
   "cell_type": "code",
   "execution_count": 8,
   "metadata": {},
   "outputs": [],
   "source": [
    "y_s = y_c + size/2\n",
    "x_s = x_c - size/2"
   ]
  },
  {
   "cell_type": "code",
   "execution_count": 9,
   "metadata": {},
   "outputs": [],
   "source": [
    "Width = int(round(size/sep_dist))"
   ]
  },
  {
   "cell_type": "code",
   "execution_count": 10,
   "metadata": {},
   "outputs": [],
   "source": [
    "grid_graph = nx.grid_graph((Width, Width))"
   ]
  },
  {
   "cell_type": "code",
   "execution_count": 11,
   "metadata": {},
   "outputs": [],
   "source": [
    "node_num = Num_Vertiports\n",
    "ind = {}\n",
    "for n in grid_graph.nodes:\n",
    "    x = x_s+sep_dist*n[0]\n",
    "    y = y_s-sep_dist*n[1]\n",
    "    \n",
    "    latlon = utm.to_latlon(x,y, z, zl)\n",
    "    \n",
    "    lons.append(latlon[1])\n",
    "    lats.append(latlon[0])\n",
    "    \n",
    "    Xs.append(x)\n",
    "    Ys.append(y)\n",
    "    \n",
    "    g.add_node(node_num)\n",
    "    \n",
    "    ind[n] = node_num\n",
    "    \n",
    "    New_Long_Lat[node_num] = [lon, lat]\n",
    "    \n",
    "    node_num += 1"
   ]
  },
  {
   "cell_type": "code",
   "execution_count": 12,
   "metadata": {},
   "outputs": [],
   "source": [
    "for n in grid_graph.nodes:\n",
    "    for nei in grid_graph.neighbors(n):\n",
    "        g.add_edge(ind[n], ind[nei])"
   ]
  },
  {
   "cell_type": "code",
   "execution_count": 13,
   "metadata": {},
   "outputs": [],
   "source": [
    "for i in grid_graph.nodes:\n",
    "    for j in range(Num_Vertiports):\n",
    "        dist = ((Xs[ind[i]]-Xs[j])**2 + (Ys[ind[i]]-Ys[j])**2)**0.5\n",
    "        \n",
    "        if dist < 1.2*sep_dist:\n",
    "            g.add_edge(ind[i],j)"
   ]
  },
  {
   "cell_type": "code",
   "execution_count": 14,
   "metadata": {},
   "outputs": [],
   "source": [
    "SRC_list = []\n",
    "DST_list = []\n",
    "\n",
    "for e in g.edges:\n",
    "    SRC_list.append([lons[int(e[0])], lats[int(e[0])]])\n",
    "    DST_list.append([lons[int(e[1])], lats[int(e[1])]])\n",
    "    \n",
    "dictv = {'start': SRC_list, 'end': DST_list} \n",
    "\n",
    "edge_df = pd.DataFrame(dictv)\n",
    "    "
   ]
  },
  {
   "cell_type": "code",
   "execution_count": 15,
   "metadata": {},
   "outputs": [],
   "source": [
    "full_df = {}\n",
    "\n",
    "\n",
    "Node_Lon_Lat = []\n",
    "Node_Color = []\n",
    "Size = []\n",
    "Vertiport = []\n",
    "Tooltip = []\n",
    "\n",
    "\n",
    "for i in range(len(lons)):\n",
    "\n",
    "    if (i < Num_Vertiports):\n",
    "        Node_Lon_Lat.append([lons[i], lats[i]])\n",
    "        Node_Color.append([0, 255, 0, 255])\n",
    "        Size.append(1000)\n",
    "        Tooltip.append(f\"<b>Type:</b> Vertiport: {i}\")\n",
    "\n",
    "    if (i >= Num_Vertiports):\n",
    "\n",
    "        Node_Lon_Lat.append([lons[i], lats[i]])\n",
    "        Node_Color.append([0, 255, 0, 50])\n",
    "        Size.append(1.5)\n",
    "        Tooltip.append(f\"<b>Type:</b> Node: {i}\")\n",
    "\n",
    "\n",
    "dictv = {'coordinates': Node_Lon_Lat, 'color': Node_Color, 'size': Size, 'tooltip': Tooltip} \n",
    "\n",
    "df = pd.DataFrame(dictv)\n"
   ]
  },
  {
   "cell_type": "code",
   "execution_count": 16,
   "metadata": {
    "scrolled": false
   },
   "outputs": [
    {
     "data": {
      "application/vnd.jupyter.widget-view+json": {
       "model_id": "e782c779649a4727b45c35d2f3895cf7",
       "version_major": 2,
       "version_minor": 0
      },
      "text/plain": [
       "DeckGLWidget(carto_key=None, custom_libraries=[], google_maps_key=None, json_input='{\"effects\": [{\"@@type\": \"L…"
      ]
     },
     "metadata": {},
     "output_type": "display_data"
    }
   ],
   "source": [
    "\n",
    "sunlight = {\n",
    "    \"@@type\": \"_SunLight\",\n",
    "    \"timestamp\": 1564696800000,  # Date.UTC(2019, 7, 1, 22),\n",
    "    \"color\": [255, 255, 255],\n",
    "    \"intensity\": 1.0,\n",
    "    \"_shadow\": True,\n",
    "}\n",
    "\n",
    "ambient_light = {\"@@type\": \"AmbientLight\", \"color\": [255, 255, 255], \"intensity\": 1.0}\n",
    "\n",
    "lighting_effect = {\n",
    "    \"@@type\": \"LightingEffect\",\n",
    "    \"shadowColor\": [0, 0, 0, 0.5],\n",
    "    \"ambientLight\": ambient_light,\n",
    "    \"directionalLights\": [sunlight],\n",
    "}\n",
    "\n",
    "view_state = pdk.ViewState(\n",
    "    **{\"latitude\": JFK_LAT_LON[0], \"longitude\": JFK_LAT_LON[1], \"zoom\": 10, \"maxZoom\": 14, \"pitch\": 90, \"bearing\": 0}\n",
    ")\n",
    "\n",
    "\n",
    "\n",
    "\n",
    "layer = pdk.Layer(\n",
    "    \"ScatterplotLayer\",\n",
    "    df,\n",
    "    pickable=True,\n",
    "    stroked=True,\n",
    "    filled=True,\n",
    "    radius_scale=0.1,\n",
    "    radius_min_pixels=1,\n",
    "    radius_max_pixels=100,\n",
    "    line_width_min_pixels=1,\n",
    "    get_position=\"coordinates\",\n",
    "    get_radius=\"size\",\n",
    "    get_fill_color=\"color\",\n",
    "    get_line_color=[0, 0, 0],\n",
    ")\n",
    "\n",
    "line_layer = pdk.Layer(\n",
    "    \"LineLayer\",\n",
    "    edge_df,\n",
    "    get_source_position=\"start\",\n",
    "    get_target_position=\"end\",\n",
    "    get_color=[105,105,105],\n",
    "    get_width=0.5,\n",
    "    highlight_color=[255, 255, 0],\n",
    "    picking_radius=10,\n",
    "    auto_highlight=True,\n",
    ")\n",
    "\n",
    "tooltip = {\"html\": \"{tooltip}\"}\n",
    "\n",
    "keys = {\"mapbox\": \"pk.eyJ1IjoibWNkb25zdCIsImEiOiJjbDRyNGphOWwweHA1M2lxemI1ZXhmM3Y1In0.Km2Tt6dKpTqwfNmTMEKrQA\"}\n",
    "\n",
    "\n",
    "layers = [line_layer, layer]\n",
    "\n",
    "r = pdk.Deck(\n",
    "    layers,\n",
    "    initial_view_state=view_state,\n",
    "    effects=[lighting_effect],\n",
    "    map_style=\"dark_no_labels\",\n",
    "    api_keys=keys,\n",
    "    tooltip=tooltip,\n",
    ")\n",
    "\n",
    "\n",
    "\n",
    "\n",
    "# # display and save map (to_html(), show())\n",
    "r.show()"
   ]
  },
  {
   "cell_type": "code",
   "execution_count": 17,
   "metadata": {},
   "outputs": [],
   "source": [
    "Adj = np.zeros((len(lons),len(lons)))"
   ]
  },
  {
   "cell_type": "code",
   "execution_count": 18,
   "metadata": {},
   "outputs": [],
   "source": [
    "for e in g.edges:\n",
    "\n",
    "    dist = ((Xs[e[0]]-Xs[e[1]])**2 + (Ys[e[0]]-Ys[e[1]])**2)**0.5\n",
    "    Adj[e[0],e[1]] = dist\n",
    "    Adj[e[1],e[0]] = dist"
   ]
  },
  {
   "cell_type": "code",
   "execution_count": 19,
   "metadata": {},
   "outputs": [],
   "source": [
    "np.savetxt(\"Adj.csv\", Adj, delimiter=\",\")\n",
    "with open('LongLat.json', 'w') as f:\n",
    "    json.dump(New_Long_Lat, f)"
   ]
  }
 ],
 "metadata": {
  "kernelspec": {
   "display_name": "Python 3",
   "language": "python",
   "name": "python3"
  },
  "language_info": {
   "codemirror_mode": {
    "name": "ipython",
    "version": 3
   },
   "file_extension": ".py",
   "mimetype": "text/x-python",
   "name": "python",
   "nbconvert_exporter": "python",
   "pygments_lexer": "ipython3",
   "version": "3.8.5"
  }
 },
 "nbformat": 4,
 "nbformat_minor": 4
}
