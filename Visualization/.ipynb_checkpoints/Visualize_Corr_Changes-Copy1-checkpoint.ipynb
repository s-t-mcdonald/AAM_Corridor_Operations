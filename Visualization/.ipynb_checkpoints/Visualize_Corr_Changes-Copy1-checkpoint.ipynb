{
 "cells": [
  {
   "cell_type": "code",
   "execution_count": 1,
   "metadata": {},
   "outputs": [],
   "source": [
    "import numpy as np\n",
    "import networkx as nx\n",
    "import json\n",
    "import matplotlib.pyplot as plt\n",
    "import random\n",
    "import pyproj\n",
    "\n",
    "import utm\n",
    "import numpy as np\n",
    "import random\n",
    "import math\n",
    "import time\n",
    "\n",
    "import pandas as pd\n",
    "import pydeck as pdk\n",
    "\n",
    "import pydeck as pdk\n",
    "import pandas as pd\n",
    "import ipywidgets\n",
    "# use palettable for colormap colors\n",
    "from palettable.cartocolors.sequential import BrwnYl_3\n",
    "import json\n",
    "\n",
    "Colors_RGB = [[31, 119, 180],\n",
    "              [227, 119, 194],\n",
    "              [44, 160, 44],\n",
    "              [255, 127, 14],\n",
    "              [148, 103, 189],\n",
    "              [140, 86, 75],\n",
    "              [127, 127, 127],\n",
    "              [188, 189, 34],\n",
    "              [23, 190, 207]]\n",
    "          \n",
    "    \n",
    "JFK_LAT_LON = 40.645944, -73.784839\n"
   ]
  },
  {
   "cell_type": "code",
   "execution_count": 2,
   "metadata": {},
   "outputs": [],
   "source": [
    "experiment_num = 2\n",
    "result_num = 1"
   ]
  },
  {
   "cell_type": "code",
   "execution_count": 3,
   "metadata": {},
   "outputs": [],
   "source": [
    "param_array = pd.read_csv(f\"../Practical_Results/Experiment_{experiment_num}/Results_1/parameters.csv\")"
   ]
  },
  {
   "cell_type": "code",
   "execution_count": 4,
   "metadata": {},
   "outputs": [],
   "source": [
    "PARAMS = param_array.PARAM"
   ]
  },
  {
   "cell_type": "code",
   "execution_count": 5,
   "metadata": {},
   "outputs": [],
   "source": [
    "\n",
    "g = nx.read_gml(f\"../Practical_Results/Experiment_{experiment_num}/Results_1/Description/Graph.gml\")\n",
    "\n",
    "with open(f\"../Practical_Results/Experiment_{experiment_num}/Results_1/Description/Edges.json\") as f:\n",
    "    Edges_Desc = json.load(f)\n",
    "\n",
    "LongLat = nx.get_node_attributes(g, \"pos\")\n",
    "\n",
    "geodesic = pyproj.Geod(ellps='WGS84')\n",
    "\n",
    "n_nodes = g.number_of_nodes()\n",
    "\n",
    "with open(f\"../Practical_Results/Experiment_{experiment_num}/Results_1/Description/Visualization_Desc.json\") as f:\n",
    "    Visualization_Desc = json.load(f)\n",
    "\n",
    "lons = []\n",
    "lats = []\n",
    "for n in range(n_nodes):\n",
    "    lons.append(LongLat[str(n)][0])\n",
    "    lats.append(LongLat[str(n)][1])\n",
    "    \n",
    "lons = np.asarray(lons)\n",
    "lats = np.asarray(lats)\n",
    "\n",
    "mult = 10\n",
    "\n",
    "Num_Vertiports = Edges_Desc[\"Number_of_Vertiports\"]\n",
    "min_time = 0\n",
    "max_time = Visualization_Desc[\"Max_Time\"]-1\n",
    "max_time = max_time*mult\n"
   ]
  },
  {
   "cell_type": "code",
   "execution_count": 6,
   "metadata": {},
   "outputs": [],
   "source": [
    "Changes_Dict = {}\n",
    "\n",
    "for param_num in PARAMS:\n",
    "    \n",
    "    try:\n",
    "\n",
    "        with open(f\"../Practical_Results/Experiment_{experiment_num}/Results_{param_num}/Description/corr_changes.csv\") as file_name:\n",
    "            corr_changes = np.loadtxt(file_name, delimiter=\",\")\n",
    "\n",
    "        Changes_Dict[param_num] = corr_changes\n",
    "        \n",
    "    except:\n",
    "        \n",
    "        None\n"
   ]
  },
  {
   "cell_type": "code",
   "execution_count": 7,
   "metadata": {},
   "outputs": [
    {
     "data": {
      "text/plain": [
       "array([3., 0.])"
      ]
     },
     "execution_count": 7,
     "metadata": {},
     "output_type": "execute_result"
    }
   ],
   "source": [
    "Changes_Dict[1][1,:]"
   ]
  },
  {
   "cell_type": "code",
   "execution_count": 8,
   "metadata": {},
   "outputs": [
    {
     "data": {
      "text/plain": [
       "(217, 2)"
      ]
     },
     "execution_count": 8,
     "metadata": {},
     "output_type": "execute_result"
    }
   ],
   "source": [
    "Changes_Dict[1].shape"
   ]
  },
  {
   "cell_type": "code",
   "execution_count": 9,
   "metadata": {},
   "outputs": [
    {
     "data": {
      "text/plain": [
       "dict_keys(['1', '2', '3', '4', '5', '6', '7', '8', '9', '10', '11', '12', '13', '14', '15', '16', '17', '18', '19', '20', '21', '22', '23', '24', '25', '26', '27', '28', '29', '30', '31', '32', '33', '34', '35', '36', '37', '38', '39', '40', '41', '42', '43', '44', '45', '46', '47', '48', '49', '50', '51', '52', '53', '54', '55', '56', '57', '58', '59', '60', '61', '62', '63', '64', '65', '66', '67', '68', '69', '70', '71', '72', '73', '74', '75', '76', '77', '78', '79', '80', '81', '82', '83', '84', '85', '86', '87', '88', '89', '90', '91', '92', '93', '94', '95', '96', '97', '98', '99', '100', '101', '102', '103', '104', '105', '106', '107', '108', '109', '110', '111', '112', '113', '114', '115', '116', '117', '118', '119', '120', '121', '122', '123', '124', '125', '126', '127', '128', '129', '130', '131', '132', '133', '134', '135', '136', '137', '138', '139', '140', '141', '142', '143', '144', '145', '146', '147', '148', '149', '150', '151', '152', '153', '154', '155', '156', '157', '158', '159', '160', '161', '162', '163', '164', '165', '166', '167', '168', '169', '170', '171', '172', '173', '174', '175', '176', '177', '178', '179', '180', '181', '182', '183', '184', '185', '186', '187', '188', '189', '190', '191', '192', '193', '194', '195', '196', '197', '198', '199', '200', '201', '202', '203', '204', '205', '206', '207', '208', '209', '210', '211', '212', '213', '214', '215', '216', '217', 'Nodes', 'Edges', 'Number_of_Vertiports'])"
      ]
     },
     "execution_count": 9,
     "metadata": {},
     "output_type": "execute_result"
    }
   ],
   "source": [
    "Edges_Desc.keys()"
   ]
  },
  {
   "cell_type": "code",
   "execution_count": 10,
   "metadata": {},
   "outputs": [],
   "source": [
    "Edge_Df = {}\n",
    "Num_Edges = Edges_Desc[\"Edges\"]\n",
    "for param_num in PARAMS:\n",
    "\n",
    "    SRC_list = []\n",
    "    DST_list = []\n",
    "    WIDTH_list = []\n",
    "    Tooltip = []\n",
    "\n",
    "    for c in range(Num_Edges):\n",
    "        src, dst, dist = Edges_Desc[str(c+1)]\n",
    "        SRC_list.append([lons[int(src)-1], lats[int(src)-1]])\n",
    "        DST_list.append([lons[int(dst)-1], lats[int(dst)-1]])\n",
    "        \n",
    "        try:\n",
    "            changes = np.sum(Changes_Dict[param_num][c,:])\n",
    "            WIDTH_list.append(changes)\n",
    "            Tooltip.append(f\"Number of Changes: {changes}\")\n",
    "        except:\n",
    "            WIDTH_list.append(0.0)\n",
    "            Tooltip.append(f\"Number of Changes: {0}\")\n",
    "            \n",
    "    WIDTH_list = np.array(WIDTH_list)\n",
    "    \n",
    "    WIDTH_list += 0.5\n",
    "\n",
    "    dictv = {'start': SRC_list, 'end': DST_list, 'width': WIDTH_list, 'tooltip': Tooltip} \n",
    "\n",
    "    edge_df = pd.DataFrame(dictv)\n",
    "\n",
    "    Edge_Df[param_num] = edge_df\n",
    "\n",
    "    "
   ]
  },
  {
   "cell_type": "code",
   "execution_count": 11,
   "metadata": {},
   "outputs": [
    {
     "data": {
      "text/plain": [
       "(217, 2)"
      ]
     },
     "execution_count": 11,
     "metadata": {},
     "output_type": "execute_result"
    }
   ],
   "source": [
    "Changes_Dict[1].shape"
   ]
  },
  {
   "cell_type": "code",
   "execution_count": 12,
   "metadata": {},
   "outputs": [
    {
     "data": {
      "text/html": [
       "<div>\n",
       "<style scoped>\n",
       "    .dataframe tbody tr th:only-of-type {\n",
       "        vertical-align: middle;\n",
       "    }\n",
       "\n",
       "    .dataframe tbody tr th {\n",
       "        vertical-align: top;\n",
       "    }\n",
       "\n",
       "    .dataframe thead th {\n",
       "        text-align: right;\n",
       "    }\n",
       "</style>\n",
       "<table border=\"1\" class=\"dataframe\">\n",
       "  <thead>\n",
       "    <tr style=\"text-align: right;\">\n",
       "      <th></th>\n",
       "      <th>start</th>\n",
       "      <th>end</th>\n",
       "      <th>width</th>\n",
       "      <th>tooltip</th>\n",
       "    </tr>\n",
       "  </thead>\n",
       "  <tbody>\n",
       "    <tr>\n",
       "      <th>0</th>\n",
       "      <td>[-73.9667774, 40.7810452]</td>\n",
       "      <td>[-73.8686, 40.783717]</td>\n",
       "      <td>4.5</td>\n",
       "      <td>Number of Changes: 4.0</td>\n",
       "    </tr>\n",
       "    <tr>\n",
       "      <th>1</th>\n",
       "      <td>[-73.9828886, 40.7533136]</td>\n",
       "      <td>[-73.8686, 40.783717]</td>\n",
       "      <td>3.5</td>\n",
       "      <td>Number of Changes: 3.0</td>\n",
       "    </tr>\n",
       "    <tr>\n",
       "      <th>2</th>\n",
       "      <td>[-74.0168892, 40.7033343]</td>\n",
       "      <td>[-74.062242, 40.848719]</td>\n",
       "      <td>2.5</td>\n",
       "      <td>Number of Changes: 2.0</td>\n",
       "    </tr>\n",
       "    <tr>\n",
       "      <th>3</th>\n",
       "      <td>[-74.2018534, 40.7467838]</td>\n",
       "      <td>[-74.132486, 40.804433]</td>\n",
       "      <td>6.5</td>\n",
       "      <td>Number of Changes: 6.0</td>\n",
       "    </tr>\n",
       "    <tr>\n",
       "      <th>4</th>\n",
       "      <td>[-74.1143852, 40.6202232]</td>\n",
       "      <td>[-74.132486, 40.804433]</td>\n",
       "      <td>1.5</td>\n",
       "      <td>Number of Changes: 1.0</td>\n",
       "    </tr>\n",
       "    <tr>\n",
       "      <th>...</th>\n",
       "      <td>...</td>\n",
       "      <td>...</td>\n",
       "      <td>...</td>\n",
       "      <td>...</td>\n",
       "    </tr>\n",
       "    <tr>\n",
       "      <th>212</th>\n",
       "      <td>[-74.860711, 41.766667]</td>\n",
       "      <td>[-73.723414, 42.253108]</td>\n",
       "      <td>0.5</td>\n",
       "      <td>Number of Changes: 0.0</td>\n",
       "    </tr>\n",
       "    <tr>\n",
       "      <th>213</th>\n",
       "      <td>[-71.128428, 42.119753]</td>\n",
       "      <td>[-71.178531, 42.455728]</td>\n",
       "      <td>0.5</td>\n",
       "      <td>Number of Changes: 0.0</td>\n",
       "    </tr>\n",
       "    <tr>\n",
       "      <th>214</th>\n",
       "      <td>[-71.128428, 42.119753]</td>\n",
       "      <td>[-71.016167, 41.875478]</td>\n",
       "      <td>0.5</td>\n",
       "      <td>Number of Changes: 0.0</td>\n",
       "    </tr>\n",
       "    <tr>\n",
       "      <th>215</th>\n",
       "      <td>[-73.723414, 42.253108]</td>\n",
       "      <td>[-74.227917, 41.485819]</td>\n",
       "      <td>0.5</td>\n",
       "      <td>Number of Changes: 0.0</td>\n",
       "    </tr>\n",
       "    <tr>\n",
       "      <th>216</th>\n",
       "      <td>[-74.044975, 41.528011]</td>\n",
       "      <td>[-74.227917, 41.485819]</td>\n",
       "      <td>2.5</td>\n",
       "      <td>Number of Changes: 2.0</td>\n",
       "    </tr>\n",
       "  </tbody>\n",
       "</table>\n",
       "<p>217 rows × 4 columns</p>\n",
       "</div>"
      ],
      "text/plain": [
       "                         start                      end  width  \\\n",
       "0    [-73.9667774, 40.7810452]    [-73.8686, 40.783717]    4.5   \n",
       "1    [-73.9828886, 40.7533136]    [-73.8686, 40.783717]    3.5   \n",
       "2    [-74.0168892, 40.7033343]  [-74.062242, 40.848719]    2.5   \n",
       "3    [-74.2018534, 40.7467838]  [-74.132486, 40.804433]    6.5   \n",
       "4    [-74.1143852, 40.6202232]  [-74.132486, 40.804433]    1.5   \n",
       "..                         ...                      ...    ...   \n",
       "212    [-74.860711, 41.766667]  [-73.723414, 42.253108]    0.5   \n",
       "213    [-71.128428, 42.119753]  [-71.178531, 42.455728]    0.5   \n",
       "214    [-71.128428, 42.119753]  [-71.016167, 41.875478]    0.5   \n",
       "215    [-73.723414, 42.253108]  [-74.227917, 41.485819]    0.5   \n",
       "216    [-74.044975, 41.528011]  [-74.227917, 41.485819]    2.5   \n",
       "\n",
       "                    tooltip  \n",
       "0    Number of Changes: 4.0  \n",
       "1    Number of Changes: 3.0  \n",
       "2    Number of Changes: 2.0  \n",
       "3    Number of Changes: 6.0  \n",
       "4    Number of Changes: 1.0  \n",
       "..                      ...  \n",
       "212  Number of Changes: 0.0  \n",
       "213  Number of Changes: 0.0  \n",
       "214  Number of Changes: 0.0  \n",
       "215  Number of Changes: 0.0  \n",
       "216  Number of Changes: 2.0  \n",
       "\n",
       "[217 rows x 4 columns]"
      ]
     },
     "execution_count": 12,
     "metadata": {},
     "output_type": "execute_result"
    }
   ],
   "source": [
    "Edge_Df[1]"
   ]
  },
  {
   "cell_type": "code",
   "execution_count": 13,
   "metadata": {},
   "outputs": [],
   "source": [
    "\n",
    "Node_Lon_Lat = []\n",
    "Node_Color = []\n",
    "Size = []\n",
    "Vertiport = []\n",
    "Tooltip = []\n",
    "\n",
    "for i in range(len(lons)):\n",
    "    Node_Lon_Lat.append([lons[i], lats[i]])\n",
    "\n",
    "    if (i < Num_Vertiports):\n",
    "        Node_Color.append([0, 255, 0, 50])\n",
    "        Size.append(15)\n",
    "        Tooltip.append(f\"<b>Type:</b> Vertiport: {i}\")\n",
    "    else:\n",
    "        Node_Color.append([255, 0, 0, 50])\n",
    "        Size.append(5)\n",
    "        Tooltip.append(f\"<b>Type:</b> Node: {i}\")\n",
    "        \n",
    "\n",
    "\n",
    "    dictv = {'coordinates': Node_Lon_Lat, 'color': Node_Color, 'size': Size, 'tooltip': Tooltip} \n",
    "\n",
    "    node_df = pd.DataFrame(dictv)\n",
    "\n",
    "           "
   ]
  },
  {
   "cell_type": "code",
   "execution_count": 14,
   "metadata": {},
   "outputs": [],
   "source": [
    "column_names = list(param_array.columns)\n",
    "column_names.remove(\"PARAM\")\n",
    "\n",
    "for column in param_array.columns:\n",
    "    if len(np.unique(param_array[column])) == 1:\n",
    "        column_names.remove(column)\n",
    "        \n",
    "weird_array = param_array.set_index(column_names)"
   ]
  },
  {
   "cell_type": "code",
   "execution_count": 15,
   "metadata": {},
   "outputs": [],
   "source": [
    "Buttons = []\n",
    "\n",
    "for name in column_names:\n",
    "    \n",
    "    values = list(np.unique(param_array[name]))\n",
    "    Button = ipywidgets.ToggleButtons(\n",
    "        options=values,\n",
    "        description=name,\n",
    "        disabled=False,\n",
    "        button_style=''\n",
    "    )\n",
    "    \n",
    "    Buttons.append(Button)"
   ]
  },
  {
   "cell_type": "code",
   "execution_count": 16,
   "metadata": {
    "scrolled": false
   },
   "outputs": [
    {
     "data": {
      "application/vnd.jupyter.widget-view+json": {
       "model_id": "bdebb6701ee54bd5a764bcbda283ad8d",
       "version_major": 2,
       "version_minor": 0
      },
      "text/plain": [
       "HBox(children=(IntSlider(value=10, max=2389, min=-1), Play(value=10, description='Press play', interval=20, ma…"
      ]
     },
     "metadata": {},
     "output_type": "display_data"
    },
    {
     "data": {
      "application/vnd.jupyter.widget-view+json": {
       "model_id": "82ff7e8ecd0f4431a5fe5c6617ee42a1",
       "version_major": 2,
       "version_minor": 0
      },
      "text/plain": [
       "HBox(children=(ToggleButtons(description='LANES', options=(2, 4, 8), value=2), ToggleButtons(description='MARG…"
      ]
     },
     "metadata": {},
     "output_type": "display_data"
    },
    {
     "data": {
      "application/vnd.jupyter.widget-view+json": {
       "model_id": "cd88148b056342eb96573bc5ede9d3a6",
       "version_major": 2,
       "version_minor": 0
      },
      "text/plain": [
       "Output()"
      ]
     },
     "metadata": {},
     "output_type": "display_data"
    },
    {
     "data": {
      "application/vnd.jupyter.widget-view+json": {
       "model_id": "65642d03b4654fb284f9fc46dd377dc3",
       "version_major": 2,
       "version_minor": 0
      },
      "text/plain": [
       "DeckGLWidget(carto_key=None, custom_libraries=[], google_maps_key=None, json_input='{\\n  \"effects\": [\\n    {\\n…"
      ]
     },
     "metadata": {},
     "output_type": "display_data"
    }
   ],
   "source": [
    "\n",
    "sunlight = {\n",
    "    \"@@type\": \"_SunLight\",\n",
    "    \"timestamp\": 1564696800000,  # Date.UTC(2019, 7, 1, 22),\n",
    "    \"color\": [255, 255, 255],\n",
    "    \"intensity\": 1.0,\n",
    "    \"_shadow\": True,\n",
    "}\n",
    "\n",
    "ambient_light = {\"@@type\": \"AmbientLight\", \"color\": [255, 255, 255], \"intensity\": 1.0}\n",
    "\n",
    "lighting_effect = {\n",
    "    \"@@type\": \"LightingEffect\",\n",
    "    \"shadowColor\": [0, 0, 0, 0.5],\n",
    "    \"ambientLight\": ambient_light,\n",
    "    \"directionalLights\": [sunlight],\n",
    "}\n",
    "\n",
    "view_state = pdk.ViewState(\n",
    "    **{\"latitude\": JFK_LAT_LON[0], \"longitude\": JFK_LAT_LON[1], \"zoom\": 6, \"maxZoom\": 14, \"pitch\": 30, \"bearing\": 0}\n",
    ")\n",
    "\n",
    "\n",
    "\n",
    "layer = pdk.Layer(\n",
    "    \"ScatterplotLayer\",\n",
    "    node_df,\n",
    "    pickable=True,\n",
    "    stroked=True,\n",
    "    filled=True,\n",
    "    radius_scale=200,\n",
    "    radius_min_pixels=1,\n",
    "    radius_max_pixels=100,\n",
    "    line_width_min_pixels=1,\n",
    "    get_position=\"coordinates\",\n",
    "    get_radius=\"size\",\n",
    "    get_fill_color=\"color\",\n",
    "    get_line_color=[0, 0, 0],\n",
    ")\n",
    "\n",
    "line_layer = pdk.Layer(\n",
    "    \"LineLayer\",\n",
    "    Edge_Df[1],\n",
    "    get_source_position=\"start\",\n",
    "    get_target_position=\"end\",\n",
    "    get_color=[105,105,105],\n",
    "    get_width=\"width\",\n",
    "    highlight_color=[255, 255, 0],\n",
    "    picking_radius=10,\n",
    "    auto_highlight=True,\n",
    "    pickable = True\n",
    ")\n",
    "\n",
    "tooltip = {\"html\": \"{tooltip}\"}\n",
    "\n",
    "keys = {\"mapbox\": \"pk.eyJ1IjoibWNkb25zdCIsImEiOiJjbDRyNGphOWwweHA1M2lxemI1ZXhmM3Y1In0.Km2Tt6dKpTqwfNmTMEKrQA\"}\n",
    "\n",
    "\n",
    "layers = [line_layer, layer]\n",
    "\n",
    "r = pdk.Deck(\n",
    "    layers,\n",
    "    initial_view_state=view_state,\n",
    "    effects=[lighting_effect],\n",
    "    map_style=\"dark\",\n",
    "    api_keys=keys,\n",
    "    tooltip=tooltip,\n",
    ")\n",
    "\n",
    "\n",
    "time_slider = ipywidgets.IntSlider(value=10, min=-1, max=max_time-1, step=1)\n",
    "\n",
    "time_play = ipywidgets.Play(value=10, min=-1, max=max_time-1, step=1, description='Press play', interval=int(200/mult))\n",
    "ipywidgets.jslink((time_play, 'value'), (time_slider, 'value'))\n",
    "\n",
    "\n",
    "layout1 = ipywidgets.HBox([time_slider, time_play])\n",
    "layout2 = ipywidgets.HBox(Buttons)\n",
    "\n",
    "# # function\n",
    "\n",
    "def update_graph(**kwargs):\n",
    "    \n",
    "#     Trip_layer.data = route_df\n",
    "\n",
    "    args = []\n",
    "    for column in column_names:\n",
    "        args.append(kwargs[column])\n",
    "    args = tuple(args)\n",
    "    \n",
    "    try:\n",
    "        param_num = weird_array.loc[args].PARAM\n",
    "        Edge_Df[param_num]\n",
    "    except:\n",
    "        print(\"Not a Valid Parameter Combination\")\n",
    "        param_num = 1\n",
    "    \n",
    "    line_layer.data = Edge_Df[param_num]\n",
    "\n",
    "    return r.update()\n",
    "\n",
    "Connected_Dict = {'time': time_slider}\n",
    "for i, name in enumerate(column_names):\n",
    "    Connected_Dict[name] = Buttons[i]\n",
    "\n",
    "# # interaction between widget and function\n",
    "interact = ipywidgets.interactive_output(update_graph, Connected_Dict);\n",
    "display(layout1,layout2,interact)\n",
    "\n",
    "# # display and save map (to_html(), show())\n",
    "r.show()\n",
    "# html = r.to_html(\"custom_layer.html\",as_string=True)"
   ]
  }
 ],
 "metadata": {
  "kernelspec": {
   "display_name": "Python 3 (ipykernel)",
   "language": "python",
   "name": "python3"
  },
  "language_info": {
   "codemirror_mode": {
    "name": "ipython",
    "version": 3
   },
   "file_extension": ".py",
   "mimetype": "text/x-python",
   "name": "python",
   "nbconvert_exporter": "python",
   "pygments_lexer": "ipython3",
   "version": "3.9.13"
  }
 },
 "nbformat": 4,
 "nbformat_minor": 4
}
